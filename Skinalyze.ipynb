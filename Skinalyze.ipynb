{
  "cells": [
    {
      "cell_type": "code",
      "execution_count": null,
      "metadata": {
        "id": "dQSvNh_V9kBP"
      },
      "outputs": [],
      "source": [
        "import tensorflow as tf\n",
        "from tensorflow.keras import layers, models, optimizers, callbacks\n",
        "from tensorflow.keras.preprocessing.image import ImageDataGenerator\n",
        "from google.colab import drive"
      ]
    },
    {
      "cell_type": "code",
      "execution_count": null,
      "metadata": {
        "colab": {
          "base_uri": "https://localhost:8080/"
        },
        "id": "ehGJurNQ-PLW",
        "outputId": "c4a0f5bc-cf26-483f-bc5a-d57efdbc9f1b"
      },
      "outputs": [
        {
          "name": "stdout",
          "output_type": "stream",
          "text": [
            "Mounted at /content/drive\n"
          ]
        }
      ],
      "source": [
        "# Mount Google Drive\n",
        "drive.mount('/content/drive')"
      ]
    },
    {
      "cell_type": "code",
      "execution_count": null,
      "metadata": {
        "id": "nAY5nyF6_nYP"
      },
      "outputs": [],
      "source": [
        "# Path folder dataset di Google Drive\n",
        "train_dir = '/content/drive/Shared drives/ML - Skinalyze/dataset/train'\n",
        "val_dir = '/content/drive/Shared drives/ML - Skinalyze/dataset/test'"
      ]
    },
    {
      "cell_type": "code",
      "execution_count": null,
      "metadata": {
        "id": "NSotDS5gJvic"
      },
      "outputs": [],
      "source": [
        "# Data Augmentation dan Preprocessing\n",
        "train_datagen = ImageDataGenerator(\n",
        "    rescale=1./255,\n",
        "    rotation_range=20,\n",
        "    width_shift_range=0.2,\n",
        "    height_shift_range=0.2,\n",
        "    zoom_range=0.2,\n",
        "    horizontal_flip=True\n",
        ")\n",
        "\n",
        "val_datagen = ImageDataGenerator(rescale=1./255)"
      ]
    },
    {
      "cell_type": "code",
      "execution_count": null,
      "metadata": {
        "colab": {
          "base_uri": "https://localhost:8080/"
        },
        "id": "Yv07Nf_sLhCP",
        "outputId": "04cc067c-bbe1-41f1-ccb0-c5932283f2fe"
      },
      "outputs": [
        {
          "name": "stdout",
          "output_type": "stream",
          "text": [
            "Found 1964 images belonging to 7 classes.\n",
            "Found 267 images belonging to 7 classes.\n"
          ]
        }
      ],
      "source": [
        "# Load Data dari folder Google Drive\n",
        "train_data = train_datagen.flow_from_directory(\n",
        "    directory=train_dir,\n",
        "    target_size=(224, 224),\n",
        "    batch_size=64,\n",
        "    class_mode='categorical'\n",
        ")\n",
        "\n",
        "val_data = val_datagen.flow_from_directory(\n",
        "    directory=val_dir,\n",
        "    target_size=(224, 224),\n",
        "    batch_size=64,\n",
        "    class_mode='categorical'\n",
        ")"
      ]
    },
    {
      "cell_type": "code",
      "execution_count": null,
      "metadata": {
        "id": "NsFroPZ-MqrF"
      },
      "outputs": [],
      "source": [
        "from tensorflow.keras import Input\n",
        "\n",
        "# Model CNN\n",
        "model = models.Sequential([\n",
        "    Input(shape=(224, 224, 3)),\n",
        "    layers.Conv2D(32, (3, 3), activation='relu'),\n",
        "    layers.MaxPooling2D((2, 2)),\n",
        "    layers.Conv2D(32, (3, 3), activation='relu'),\n",
        "    layers.MaxPooling2D((2, 2)),\n",
        "    layers.Conv2D(32, (3, 3), activation='relu'),\n",
        "    layers.MaxPooling2D((2, 2)),\n",
        "    layers.Flatten(),\n",
        "    layers.Dense(128, activation='relu'),\n",
        "    layers.Dropout(0.5),\n",
        "    layers.Dense(train_data.num_classes, activation='softmax')\n",
        "])"
      ]
    },
    {
      "cell_type": "code",
      "execution_count": null,
      "metadata": {
        "id": "iGQuyxFTNM1a"
      },
      "outputs": [],
      "source": [
        "# Optimizer dengan LR dan Momentum\n",
        "optimizer = optimizers.SGD(learning_rate=0.01, momentum=0.03)"
      ]
    },
    {
      "cell_type": "code",
      "execution_count": null,
      "metadata": {
        "id": "aZK2-Aq7NPEK"
      },
      "outputs": [],
      "source": [
        "# Compile model\n",
        "model.compile(\n",
        "    optimizer=optimizer,\n",
        "    loss='categorical_crossentropy',\n",
        "    metrics=[\n",
        "        'accuracy',\n",
        "        tf.keras.metrics.AUC(name='auc'),\n",
        "        tf.keras.metrics.Precision(name='precision'),\n",
        "        tf.keras.metrics.Recall(name='recall')\n",
        "    ]\n",
        ")"
      ]
    },
    {
      "cell_type": "code",
      "execution_count": null,
      "metadata": {
        "id": "wUD7Pib8NS6t"
      },
      "outputs": [],
      "source": [
        "# Callbacks: Early Stopping\n",
        "early_stopping = callbacks.EarlyStopping(\n",
        "    monitor='val_auc',\n",
        "    patience=10,\n",
        "    restore_best_weights=True\n",
        ")"
      ]
    },
    {
      "cell_type": "code",
      "execution_count": null,
      "metadata": {
        "colab": {
          "base_uri": "https://localhost:8080/"
        },
        "id": "0tWHcr3FNlV6",
        "outputId": "2973c3c7-cdba-4e69-e3b8-ea4134d5e55a"
      },
      "outputs": [
        {
          "metadata": {
            "tags": null
          },
          "name": "stdout",
          "output_type": "stream",
          "text": [
            "Epoch 1/100\n"
          ]
        },
        {
          "metadata": {
            "tags": null
          },
          "name": "stderr",
          "output_type": "stream",
          "text": [
            "/usr/local/lib/python3.10/dist-packages/keras/src/trainers/data_adapters/py_dataset_adapter.py:122: UserWarning: Your `PyDataset` class should call `super().__init__(**kwargs)` in its constructor. `**kwargs` can include `workers`, `use_multiprocessing`, `max_queue_size`. Do not pass these arguments to `fit()`, as they will be ignored.\n",
            "  self._warn_if_super_not_called()\n"
          ]
        },
        {
          "output_type": "stream",
          "name": "stdout",
          "text": [
            "\u001b[1m31/31\u001b[0m \u001b[32m━━━━━━━━━━━━━━━━━━━━\u001b[0m\u001b[37m\u001b[0m \u001b[1m1628s\u001b[0m 41s/step - accuracy: 0.2006 - auc: 0.5845 - loss: 1.9145 - precision: 0.0000e+00 - recall: 0.0000e+00 - val_accuracy: 0.1461 - val_auc: 0.5301 - val_loss: 1.9596 - val_precision: 0.0000e+00 - val_recall: 0.0000e+00\n",
            "Epoch 2/100\n",
            "\u001b[1m31/31\u001b[0m \u001b[32m━━━━━━━━━━━━━━━━━━━━\u001b[0m\u001b[37m\u001b[0m \u001b[1m197s\u001b[0m 6s/step - accuracy: 0.2380 - auc: 0.6351 - loss: 1.8766 - precision: 0.0000e+00 - recall: 0.0000e+00 - val_accuracy: 0.1461 - val_auc: 0.5891 - val_loss: 1.9353 - val_precision: 0.0000e+00 - val_recall: 0.0000e+00\n",
            "Epoch 3/100\n",
            "\u001b[1m31/31\u001b[0m \u001b[32m━━━━━━━━━━━━━━━━━━━━\u001b[0m\u001b[37m\u001b[0m \u001b[1m186s\u001b[0m 6s/step - accuracy: 0.2697 - auc: 0.6636 - loss: 1.8397 - precision: 0.0000e+00 - recall: 0.0000e+00 - val_accuracy: 0.1835 - val_auc: 0.5616 - val_loss: 1.9735 - val_precision: 0.0000e+00 - val_recall: 0.0000e+00\n",
            "Epoch 4/100\n",
            "\u001b[1m31/31\u001b[0m \u001b[32m━━━━━━━━━━━━━━━━━━━━\u001b[0m\u001b[37m\u001b[0m \u001b[1m200s\u001b[0m 6s/step - accuracy: 0.2990 - auc: 0.6782 - loss: 1.8062 - precision: 0.0938 - recall: 4.8270e-05 - val_accuracy: 0.2659 - val_auc: 0.6680 - val_loss: 1.8191 - val_precision: 0.0000e+00 - val_recall: 0.0000e+00\n",
            "Epoch 5/100\n",
            "\u001b[1m31/31\u001b[0m \u001b[32m━━━━━━━━━━━━━━━━━━━━\u001b[0m\u001b[37m\u001b[0m \u001b[1m210s\u001b[0m 6s/step - accuracy: 0.3114 - auc: 0.7015 - loss: 1.7692 - precision: 0.5495 - recall: 0.0036 - val_accuracy: 0.2921 - val_auc: 0.7286 - val_loss: 1.7421 - val_precision: 1.0000 - val_recall: 0.0075\n",
            "Epoch 6/100\n",
            "\u001b[1m31/31\u001b[0m \u001b[32m━━━━━━━━━━━━━━━━━━━━\u001b[0m\u001b[37m\u001b[0m \u001b[1m194s\u001b[0m 6s/step - accuracy: 0.3536 - auc: 0.7293 - loss: 1.7093 - precision: 0.7249 - recall: 0.0175 - val_accuracy: 0.2846 - val_auc: 0.6835 - val_loss: 1.7885 - val_precision: 1.0000 - val_recall: 0.0562\n",
            "Epoch 7/100\n",
            "\u001b[1m31/31\u001b[0m \u001b[32m━━━━━━━━━━━━━━━━━━━━\u001b[0m\u001b[37m\u001b[0m \u001b[1m184s\u001b[0m 6s/step - accuracy: 0.3353 - auc: 0.7357 - loss: 1.6844 - precision: 0.7616 - recall: 0.0491 - val_accuracy: 0.3109 - val_auc: 0.7286 - val_loss: 1.6796 - val_precision: 1.0000 - val_recall: 0.0599\n",
            "Epoch 8/100\n",
            "\u001b[1m31/31\u001b[0m \u001b[32m━━━━━━━━━━━━━━━━━━━━\u001b[0m\u001b[37m\u001b[0m \u001b[1m196s\u001b[0m 6s/step - accuracy: 0.3630 - auc: 0.7577 - loss: 1.6325 - precision: 0.7108 - recall: 0.0576 - val_accuracy: 0.2884 - val_auc: 0.7220 - val_loss: 1.7093 - val_precision: 0.4545 - val_recall: 0.0375\n",
            "Epoch 9/100\n",
            "\u001b[1m31/31\u001b[0m \u001b[32m━━━━━━━━━━━━━━━━━━━━\u001b[0m\u001b[37m\u001b[0m \u001b[1m186s\u001b[0m 6s/step - accuracy: 0.3784 - auc: 0.7565 - loss: 1.6295 - precision: 0.7173 - recall: 0.0766 - val_accuracy: 0.3258 - val_auc: 0.7522 - val_loss: 1.6562 - val_precision: 0.5128 - val_recall: 0.0749\n",
            "Epoch 10/100\n",
            "\u001b[1m31/31\u001b[0m \u001b[32m━━━━━━━━━━━━━━━━━━━━\u001b[0m\u001b[37m\u001b[0m \u001b[1m202s\u001b[0m 6s/step - accuracy: 0.3928 - auc: 0.7743 - loss: 1.5835 - precision: 0.6444 - recall: 0.0994 - val_accuracy: 0.3858 - val_auc: 0.8032 - val_loss: 1.5259 - val_precision: 0.6875 - val_recall: 0.0824\n",
            "Epoch 11/100\n",
            "\u001b[1m31/31\u001b[0m \u001b[32m━━━━━━━━━━━━━━━━━━━━\u001b[0m\u001b[37m\u001b[0m \u001b[1m196s\u001b[0m 6s/step - accuracy: 0.4080 - auc: 0.7939 - loss: 1.5296 - precision: 0.6807 - recall: 0.1180 - val_accuracy: 0.4120 - val_auc: 0.7944 - val_loss: 1.5216 - val_precision: 0.7500 - val_recall: 0.0787\n",
            "Epoch 12/100\n",
            "\u001b[1m31/31\u001b[0m \u001b[32m━━━━━━━━━━━━━━━━━━━━\u001b[0m\u001b[37m\u001b[0m \u001b[1m187s\u001b[0m 6s/step - accuracy: 0.4231 - auc: 0.7893 - loss: 1.5431 - precision: 0.6309 - recall: 0.0999 - val_accuracy: 0.3408 - val_auc: 0.7946 - val_loss: 1.5219 - val_precision: 0.9310 - val_recall: 0.1011\n",
            "Epoch 13/100\n",
            "\u001b[1m31/31\u001b[0m \u001b[32m━━━━━━━━━━━━━━━━━━━━\u001b[0m\u001b[37m\u001b[0m \u001b[1m189s\u001b[0m 6s/step - accuracy: 0.4329 - auc: 0.7961 - loss: 1.5199 - precision: 0.6597 - recall: 0.1160 - val_accuracy: 0.3858 - val_auc: 0.8155 - val_loss: 1.4694 - val_precision: 0.6047 - val_recall: 0.1948\n",
            "Epoch 14/100\n",
            "\u001b[1m31/31\u001b[0m \u001b[32m━━━━━━━━━━━━━━━━━━━━\u001b[0m\u001b[37m\u001b[0m \u001b[1m202s\u001b[0m 6s/step - accuracy: 0.4375 - auc: 0.8153 - loss: 1.4547 - precision: 0.6628 - recall: 0.1816 - val_accuracy: 0.4457 - val_auc: 0.8352 - val_loss: 1.4176 - val_precision: 0.6170 - val_recall: 0.1086\n",
            "Epoch 15/100\n",
            "\u001b[1m31/31\u001b[0m \u001b[32m━━━━━━━━━━━━━━━━━━━━\u001b[0m\u001b[37m\u001b[0m \u001b[1m200s\u001b[0m 6s/step - accuracy: 0.4410 - auc: 0.8098 - loss: 1.4739 - precision: 0.6591 - recall: 0.1457 - val_accuracy: 0.3521 - val_auc: 0.8160 - val_loss: 1.4482 - val_precision: 0.7681 - val_recall: 0.1985\n",
            "Epoch 16/100\n",
            "\u001b[1m31/31\u001b[0m \u001b[32m━━━━━━━━━━━━━━━━━━━━\u001b[0m\u001b[37m\u001b[0m \u001b[1m186s\u001b[0m 6s/step - accuracy: 0.4508 - auc: 0.8092 - loss: 1.4737 - precision: 0.6891 - recall: 0.1803 - val_accuracy: 0.4569 - val_auc: 0.8419 - val_loss: 1.3748 - val_precision: 0.6119 - val_recall: 0.1536\n",
            "Epoch 17/100\n",
            "\u001b[1m31/31\u001b[0m \u001b[32m━━━━━━━━━━━━━━━━━━━━\u001b[0m\u001b[37m\u001b[0m \u001b[1m188s\u001b[0m 6s/step - accuracy: 0.4650 - auc: 0.8103 - loss: 1.4696 - precision: 0.6435 - recall: 0.1677 - val_accuracy: 0.4757 - val_auc: 0.8548 - val_loss: 1.3365 - val_precision: 0.6623 - val_recall: 0.1910\n",
            "Epoch 18/100\n",
            "\u001b[1m31/31\u001b[0m \u001b[32m━━━━━━━━━━━━━━━━━━━━\u001b[0m\u001b[37m\u001b[0m \u001b[1m195s\u001b[0m 6s/step - accuracy: 0.4816 - auc: 0.8316 - loss: 1.4039 - precision: 0.6370 - recall: 0.1942 - val_accuracy: 0.4869 - val_auc: 0.8652 - val_loss: 1.3106 - val_precision: 0.7143 - val_recall: 0.1685\n",
            "Epoch 19/100\n",
            "\u001b[1m31/31\u001b[0m \u001b[32m━━━━━━━━━━━━━━━━━━━━\u001b[0m\u001b[37m\u001b[0m \u001b[1m193s\u001b[0m 6s/step - accuracy: 0.4846 - auc: 0.8325 - loss: 1.3997 - precision: 0.6911 - recall: 0.1858 - val_accuracy: 0.4831 - val_auc: 0.8514 - val_loss: 1.3353 - val_precision: 0.5802 - val_recall: 0.1760\n",
            "Epoch 20/100\n",
            "\u001b[1m31/31\u001b[0m \u001b[32m━━━━━━━━━━━━━━━━━━━━\u001b[0m\u001b[37m\u001b[0m \u001b[1m203s\u001b[0m 6s/step - accuracy: 0.4946 - auc: 0.8403 - loss: 1.3730 - precision: 0.6818 - recall: 0.2166 - val_accuracy: 0.4794 - val_auc: 0.8558 - val_loss: 1.3088 - val_precision: 0.7160 - val_recall: 0.2172\n",
            "Epoch 21/100\n",
            "\u001b[1m31/31\u001b[0m \u001b[32m━━━━━━━━━━━━━━━━━━━━\u001b[0m\u001b[37m\u001b[0m \u001b[1m207s\u001b[0m 6s/step - accuracy: 0.4833 - auc: 0.8348 - loss: 1.3822 - precision: 0.7025 - recall: 0.2115 - val_accuracy: 0.4307 - val_auc: 0.8591 - val_loss: 1.2985 - val_precision: 0.5903 - val_recall: 0.3184\n",
            "Epoch 22/100\n",
            "\u001b[1m31/31\u001b[0m \u001b[32m━━━━━━━━━━━━━━━━━━━━\u001b[0m\u001b[37m\u001b[0m \u001b[1m195s\u001b[0m 6s/step - accuracy: 0.4779 - auc: 0.8358 - loss: 1.3836 - precision: 0.6713 - recall: 0.2272 - val_accuracy: 0.5131 - val_auc: 0.8894 - val_loss: 1.1926 - val_precision: 0.7368 - val_recall: 0.2622\n",
            "Epoch 23/100\n",
            "\u001b[1m31/31\u001b[0m \u001b[32m━━━━━━━━━━━━━━━━━━━━\u001b[0m\u001b[37m\u001b[0m \u001b[1m189s\u001b[0m 6s/step - accuracy: 0.4964 - auc: 0.8435 - loss: 1.3584 - precision: 0.6978 - recall: 0.2337 - val_accuracy: 0.4906 - val_auc: 0.8829 - val_loss: 1.1901 - val_precision: 0.7660 - val_recall: 0.2697\n",
            "Epoch 24/100\n",
            "\u001b[1m31/31\u001b[0m \u001b[32m━━━━━━━━━━━━━━━━━━━━\u001b[0m\u001b[37m\u001b[0m \u001b[1m208s\u001b[0m 6s/step - accuracy: 0.4904 - auc: 0.8450 - loss: 1.3478 - precision: 0.6971 - recall: 0.2550 - val_accuracy: 0.5581 - val_auc: 0.8974 - val_loss: 1.1610 - val_precision: 0.7423 - val_recall: 0.2697\n",
            "Epoch 25/100\n",
            "\u001b[1m31/31\u001b[0m \u001b[32m━━━━━━━━━━━━━━━━━━━━\u001b[0m\u001b[37m\u001b[0m \u001b[1m192s\u001b[0m 6s/step - accuracy: 0.4952 - auc: 0.8489 - loss: 1.3321 - precision: 0.7019 - recall: 0.2662 - val_accuracy: 0.5468 - val_auc: 0.9000 - val_loss: 1.1381 - val_precision: 0.8144 - val_recall: 0.2959\n",
            "Epoch 26/100\n",
            "\u001b[1m31/31\u001b[0m \u001b[32m━━━━━━━━━━━━━━━━━━━━\u001b[0m\u001b[37m\u001b[0m \u001b[1m206s\u001b[0m 6s/step - accuracy: 0.4933 - auc: 0.8393 - loss: 1.3632 - precision: 0.6976 - recall: 0.2518 - val_accuracy: 0.5131 - val_auc: 0.8736 - val_loss: 1.2174 - val_precision: 0.6753 - val_recall: 0.3895\n",
            "Epoch 27/100\n",
            "\u001b[1m31/31\u001b[0m \u001b[32m━━━━━━━━━━━━━━━━━━━━\u001b[0m\u001b[37m\u001b[0m \u001b[1m196s\u001b[0m 6s/step - accuracy: 0.4881 - auc: 0.8439 - loss: 1.3480 - precision: 0.6529 - recall: 0.2544 - val_accuracy: 0.5393 - val_auc: 0.8989 - val_loss: 1.1268 - val_precision: 0.7768 - val_recall: 0.3258\n",
            "Epoch 28/100\n",
            "\u001b[1m31/31\u001b[0m \u001b[32m━━━━━━━━━━━━━━━━━━━━\u001b[0m\u001b[37m\u001b[0m \u001b[1m193s\u001b[0m 6s/step - accuracy: 0.5076 - auc: 0.8535 - loss: 1.3111 - precision: 0.7139 - recall: 0.2658 - val_accuracy: 0.5094 - val_auc: 0.8755 - val_loss: 1.2091 - val_precision: 0.6667 - val_recall: 0.3596\n",
            "Epoch 29/100\n",
            "\u001b[1m31/31\u001b[0m \u001b[32m━━━━━━━━━━━━━━━━━━━━\u001b[0m\u001b[37m\u001b[0m \u001b[1m185s\u001b[0m 6s/step - accuracy: 0.5211 - auc: 0.8669 - loss: 1.2539 - precision: 0.7184 - recall: 0.3021 - val_accuracy: 0.5768 - val_auc: 0.9074 - val_loss: 1.0613 - val_precision: 0.7609 - val_recall: 0.3933\n",
            "Epoch 30/100\n",
            "\u001b[1m31/31\u001b[0m \u001b[32m━━━━━━━━━━━━━━━━━━━━\u001b[0m\u001b[37m\u001b[0m \u001b[1m211s\u001b[0m 6s/step - accuracy: 0.5208 - auc: 0.8557 - loss: 1.2987 - precision: 0.6886 - recall: 0.2759 - val_accuracy: 0.5318 - val_auc: 0.8974 - val_loss: 1.1044 - val_precision: 0.7376 - val_recall: 0.3895\n",
            "Epoch 31/100\n",
            "\u001b[1m31/31\u001b[0m \u001b[32m━━━━━━━━━━━━━━━━━━━━\u001b[0m\u001b[37m\u001b[0m \u001b[1m190s\u001b[0m 6s/step - accuracy: 0.5347 - auc: 0.8736 - loss: 1.2230 - precision: 0.7107 - recall: 0.3362 - val_accuracy: 0.6105 - val_auc: 0.9184 - val_loss: 1.0441 - val_precision: 0.8214 - val_recall: 0.3446\n",
            "Epoch 32/100\n",
            "\u001b[1m31/31\u001b[0m \u001b[32m━━━━━━━━━━━━━━━━━━━━\u001b[0m\u001b[37m\u001b[0m \u001b[1m186s\u001b[0m 6s/step - accuracy: 0.5783 - auc: 0.8810 - loss: 1.1963 - precision: 0.7677 - recall: 0.3399 - val_accuracy: 0.5468 - val_auc: 0.8998 - val_loss: 1.0967 - val_precision: 0.7574 - val_recall: 0.3858\n",
            "Epoch 33/100\n",
            "\u001b[1m31/31\u001b[0m \u001b[32m━━━━━━━━━━━━━━━━━━━━\u001b[0m\u001b[37m\u001b[0m \u001b[1m195s\u001b[0m 6s/step - accuracy: 0.5341 - auc: 0.8683 - loss: 1.2436 - precision: 0.7287 - recall: 0.3136 - val_accuracy: 0.5730 - val_auc: 0.9046 - val_loss: 1.0726 - val_precision: 0.7343 - val_recall: 0.3933\n",
            "Epoch 34/100\n",
            "\u001b[1m31/31\u001b[0m \u001b[32m━━━━━━━━━━━━━━━━━━━━\u001b[0m\u001b[37m\u001b[0m \u001b[1m193s\u001b[0m 6s/step - accuracy: 0.5247 - auc: 0.8721 - loss: 1.2301 - precision: 0.7104 - recall: 0.2972 - val_accuracy: 0.5918 - val_auc: 0.9201 - val_loss: 0.9946 - val_precision: 0.7724 - val_recall: 0.4195\n",
            "Epoch 35/100\n",
            "\u001b[1m31/31\u001b[0m \u001b[32m━━━━━━━━━━━━━━━━━━━━\u001b[0m\u001b[37m\u001b[0m \u001b[1m204s\u001b[0m 6s/step - accuracy: 0.5499 - auc: 0.8827 - loss: 1.1882 - precision: 0.7211 - recall: 0.3564 - val_accuracy: 0.5955 - val_auc: 0.9148 - val_loss: 1.0102 - val_precision: 0.7470 - val_recall: 0.4644\n",
            "Epoch 36/100\n",
            "\u001b[1m31/31\u001b[0m \u001b[32m━━━━━━━━━━━━━━━━━━━━\u001b[0m\u001b[37m\u001b[0m \u001b[1m211s\u001b[0m 6s/step - accuracy: 0.5498 - auc: 0.8773 - loss: 1.2051 - precision: 0.6941 - recall: 0.3328 - val_accuracy: 0.6180 - val_auc: 0.9193 - val_loss: 1.0003 - val_precision: 0.8188 - val_recall: 0.4232\n",
            "Epoch 37/100\n",
            "\u001b[1m31/31\u001b[0m \u001b[32m━━━━━━━━━━━━━━━━━━━━\u001b[0m\u001b[37m\u001b[0m \u001b[1m190s\u001b[0m 6s/step - accuracy: 0.5490 - auc: 0.8768 - loss: 1.2089 - precision: 0.7209 - recall: 0.3412 - val_accuracy: 0.6330 - val_auc: 0.9308 - val_loss: 0.9351 - val_precision: 0.8025 - val_recall: 0.4719\n",
            "Epoch 38/100\n",
            "\u001b[1m31/31\u001b[0m \u001b[32m━━━━━━━━━━━━━━━━━━━━\u001b[0m\u001b[37m\u001b[0m \u001b[1m204s\u001b[0m 6s/step - accuracy: 0.5773 - auc: 0.8848 - loss: 1.1757 - precision: 0.7291 - recall: 0.3500 - val_accuracy: 0.6629 - val_auc: 0.9366 - val_loss: 0.8968 - val_precision: 0.8235 - val_recall: 0.4719\n",
            "Epoch 39/100\n",
            "\u001b[1m31/31\u001b[0m \u001b[32m━━━━━━━━━━━━━━━━━━━━\u001b[0m\u001b[37m\u001b[0m \u001b[1m196s\u001b[0m 6s/step - accuracy: 0.5571 - auc: 0.8757 - loss: 1.2084 - precision: 0.7193 - recall: 0.3574 - val_accuracy: 0.6816 - val_auc: 0.9423 - val_loss: 0.8846 - val_precision: 0.8389 - val_recall: 0.4682\n",
            "Epoch 40/100\n",
            "\u001b[1m31/31\u001b[0m \u001b[32m━━━━━━━━━━━━━━━━━━━━\u001b[0m\u001b[37m\u001b[0m \u001b[1m186s\u001b[0m 6s/step - accuracy: 0.5845 - auc: 0.8851 - loss: 1.1678 - precision: 0.7290 - recall: 0.3676 - val_accuracy: 0.6592 - val_auc: 0.9397 - val_loss: 0.9094 - val_precision: 0.8308 - val_recall: 0.4045\n",
            "Epoch 41/100\n",
            "\u001b[1m31/31\u001b[0m \u001b[32m━━━━━━━━━━━━━━━━━━━━\u001b[0m\u001b[37m\u001b[0m \u001b[1m186s\u001b[0m 6s/step - accuracy: 0.5618 - auc: 0.8784 - loss: 1.2023 - precision: 0.7214 - recall: 0.3307 - val_accuracy: 0.6517 - val_auc: 0.9364 - val_loss: 0.9106 - val_precision: 0.8163 - val_recall: 0.4494\n",
            "Epoch 42/100\n",
            "\u001b[1m31/31\u001b[0m \u001b[32m━━━━━━━━━━━━━━━━━━━━\u001b[0m\u001b[37m\u001b[0m \u001b[1m189s\u001b[0m 6s/step - accuracy: 0.5538 - auc: 0.8877 - loss: 1.1585 - precision: 0.7291 - recall: 0.3542 - val_accuracy: 0.5693 - val_auc: 0.9236 - val_loss: 0.9624 - val_precision: 0.7651 - val_recall: 0.4757\n",
            "Epoch 43/100\n",
            "\u001b[1m31/31\u001b[0m \u001b[32m━━━━━━━━━━━━━━━━━━━━\u001b[0m\u001b[37m\u001b[0m \u001b[1m193s\u001b[0m 6s/step - accuracy: 0.5534 - auc: 0.8858 - loss: 1.1648 - precision: 0.7343 - recall: 0.3781 - val_accuracy: 0.6517 - val_auc: 0.9319 - val_loss: 0.9212 - val_precision: 0.8025 - val_recall: 0.4869\n",
            "Epoch 44/100\n",
            "\u001b[1m31/31\u001b[0m \u001b[32m━━━━━━━━━━━━━━━━━━━━\u001b[0m\u001b[37m\u001b[0m \u001b[1m195s\u001b[0m 6s/step - accuracy: 0.5770 - auc: 0.8845 - loss: 1.1669 - precision: 0.7370 - recall: 0.3761 - val_accuracy: 0.6629 - val_auc: 0.9436 - val_loss: 0.8711 - val_precision: 0.8690 - val_recall: 0.4719\n",
            "Epoch 45/100\n",
            "\u001b[1m31/31\u001b[0m \u001b[32m━━━━━━━━━━━━━━━━━━━━\u001b[0m\u001b[37m\u001b[0m \u001b[1m202s\u001b[0m 6s/step - accuracy: 0.5812 - auc: 0.8939 - loss: 1.1248 - precision: 0.7291 - recall: 0.3854 - val_accuracy: 0.5993 - val_auc: 0.9280 - val_loss: 0.9403 - val_precision: 0.7826 - val_recall: 0.4719\n",
            "Epoch 46/100\n",
            "\u001b[1m31/31\u001b[0m \u001b[32m━━━━━━━━━━━━━━━━━━━━\u001b[0m\u001b[37m\u001b[0m \u001b[1m193s\u001b[0m 6s/step - accuracy: 0.5987 - auc: 0.8949 - loss: 1.1194 - precision: 0.7449 - recall: 0.4089 - val_accuracy: 0.6779 - val_auc: 0.9465 - val_loss: 0.8347 - val_precision: 0.8363 - val_recall: 0.5356\n",
            "Epoch 47/100\n",
            "\u001b[1m31/31\u001b[0m \u001b[32m━━━━━━━━━━━━━━━━━━━━\u001b[0m\u001b[37m\u001b[0m \u001b[1m187s\u001b[0m 6s/step - accuracy: 0.5861 - auc: 0.8969 - loss: 1.1109 - precision: 0.7455 - recall: 0.3953 - val_accuracy: 0.6779 - val_auc: 0.9443 - val_loss: 0.8297 - val_precision: 0.7880 - val_recall: 0.5431\n",
            "Epoch 48/100\n",
            "\u001b[1m31/31\u001b[0m \u001b[32m━━━━━━━━━━━━━━━━━━━━\u001b[0m\u001b[37m\u001b[0m \u001b[1m199s\u001b[0m 6s/step - accuracy: 0.6134 - auc: 0.9052 - loss: 1.0633 - precision: 0.7454 - recall: 0.4257 - val_accuracy: 0.6667 - val_auc: 0.9444 - val_loss: 0.8420 - val_precision: 0.8144 - val_recall: 0.5094\n",
            "Epoch 49/100\n",
            "\u001b[1m31/31\u001b[0m \u001b[32m━━━━━━━━━━━━━━━━━━━━\u001b[0m\u001b[37m\u001b[0m \u001b[1m194s\u001b[0m 6s/step - accuracy: 0.6013 - auc: 0.9038 - loss: 1.0756 - precision: 0.7511 - recall: 0.4167 - val_accuracy: 0.6891 - val_auc: 0.9492 - val_loss: 0.8194 - val_precision: 0.8258 - val_recall: 0.4794\n",
            "Epoch 50/100\n",
            "\u001b[1m31/31\u001b[0m \u001b[32m━━━━━━━━━━━━━━━━━━━━\u001b[0m\u001b[37m\u001b[0m \u001b[1m195s\u001b[0m 6s/step - accuracy: 0.5961 - auc: 0.8934 - loss: 1.1371 - precision: 0.7343 - recall: 0.4019 - val_accuracy: 0.7191 - val_auc: 0.9494 - val_loss: 0.8152 - val_precision: 0.8353 - val_recall: 0.5318\n",
            "Epoch 51/100\n",
            "\u001b[1m31/31\u001b[0m \u001b[32m━━━━━━━━━━━━━━━━━━━━\u001b[0m\u001b[37m\u001b[0m \u001b[1m189s\u001b[0m 6s/step - accuracy: 0.6578 - auc: 0.9190 - loss: 0.9919 - precision: 0.7834 - recall: 0.4785 - val_accuracy: 0.6742 - val_auc: 0.9453 - val_loss: 0.8433 - val_precision: 0.8481 - val_recall: 0.5019\n",
            "Epoch 52/100\n",
            "\u001b[1m31/31\u001b[0m \u001b[32m━━━━━━━━━━━━━━━━━━━━\u001b[0m\u001b[37m\u001b[0m \u001b[1m195s\u001b[0m 6s/step - accuracy: 0.5898 - auc: 0.8949 - loss: 1.1212 - precision: 0.7381 - recall: 0.4087 - val_accuracy: 0.6404 - val_auc: 0.9421 - val_loss: 0.8669 - val_precision: 0.8188 - val_recall: 0.4906\n",
            "Epoch 53/100\n",
            "\u001b[1m31/31\u001b[0m \u001b[32m━━━━━━━━━━━━━━━━━━━━\u001b[0m\u001b[37m\u001b[0m \u001b[1m187s\u001b[0m 6s/step - accuracy: 0.5974 - auc: 0.8998 - loss: 1.0934 - precision: 0.7385 - recall: 0.4186 - val_accuracy: 0.6629 - val_auc: 0.9464 - val_loss: 0.8236 - val_precision: 0.8103 - val_recall: 0.5281\n",
            "Epoch 54/100\n",
            "\u001b[1m31/31\u001b[0m \u001b[32m━━━━━━━━━━━━━━━━━━━━\u001b[0m\u001b[37m\u001b[0m \u001b[1m201s\u001b[0m 6s/step - accuracy: 0.6140 - auc: 0.9097 - loss: 1.0467 - precision: 0.7556 - recall: 0.4417 - val_accuracy: 0.7004 - val_auc: 0.9517 - val_loss: 0.7988 - val_precision: 0.8383 - val_recall: 0.5243\n",
            "Epoch 55/100\n",
            "\u001b[1m31/31\u001b[0m \u001b[32m━━━━━━━━━━━━━━━━━━━━\u001b[0m\u001b[37m\u001b[0m \u001b[1m210s\u001b[0m 6s/step - accuracy: 0.6413 - auc: 0.9144 - loss: 1.0176 - precision: 0.7586 - recall: 0.4499 - val_accuracy: 0.6854 - val_auc: 0.9497 - val_loss: 0.7996 - val_precision: 0.8249 - val_recall: 0.5468\n",
            "Epoch 56/100\n",
            "\u001b[1m31/31\u001b[0m \u001b[32m━━━━━━━━━━━━━━━━━━━━\u001b[0m\u001b[37m\u001b[0m \u001b[1m186s\u001b[0m 6s/step - accuracy: 0.6307 - auc: 0.9121 - loss: 1.0257 - precision: 0.7558 - recall: 0.4505 - val_accuracy: 0.6929 - val_auc: 0.9533 - val_loss: 0.7807 - val_precision: 0.8448 - val_recall: 0.5506\n",
            "Epoch 57/100\n",
            "\u001b[1m31/31\u001b[0m \u001b[32m━━━━━━━━━━━━━━━━━━━━\u001b[0m\u001b[37m\u001b[0m \u001b[1m186s\u001b[0m 6s/step - accuracy: 0.6170 - auc: 0.9059 - loss: 1.0630 - precision: 0.7333 - recall: 0.4290 - val_accuracy: 0.7004 - val_auc: 0.9543 - val_loss: 0.7658 - val_precision: 0.8462 - val_recall: 0.5768\n",
            "Epoch 58/100\n",
            "\u001b[1m31/31\u001b[0m \u001b[32m━━━━━━━━━━━━━━━━━━━━\u001b[0m\u001b[37m\u001b[0m \u001b[1m198s\u001b[0m 6s/step - accuracy: 0.6240 - auc: 0.9018 - loss: 1.0868 - precision: 0.7704 - recall: 0.4375 - val_accuracy: 0.6816 - val_auc: 0.9501 - val_loss: 0.7793 - val_precision: 0.8196 - val_recall: 0.5955\n",
            "Epoch 59/100\n",
            "\u001b[1m31/31\u001b[0m \u001b[32m━━━━━━━━━━━━━━━━━━━━\u001b[0m\u001b[37m\u001b[0m \u001b[1m187s\u001b[0m 6s/step - accuracy: 0.6076 - auc: 0.9047 - loss: 1.0672 - precision: 0.7344 - recall: 0.4390 - val_accuracy: 0.7266 - val_auc: 0.9593 - val_loss: 0.7366 - val_precision: 0.8706 - val_recall: 0.5543\n",
            "Epoch 60/100\n",
            "\u001b[1m31/31\u001b[0m \u001b[32m━━━━━━━━━━━━━━━━━━━━\u001b[0m\u001b[37m\u001b[0m \u001b[1m202s\u001b[0m 6s/step - accuracy: 0.6274 - auc: 0.9064 - loss: 1.0568 - precision: 0.7564 - recall: 0.4550 - val_accuracy: 0.7416 - val_auc: 0.9617 - val_loss: 0.7077 - val_precision: 0.8634 - val_recall: 0.5918\n",
            "Epoch 61/100\n",
            "\u001b[1m31/31\u001b[0m \u001b[32m━━━━━━━━━━━━━━━━━━━━\u001b[0m\u001b[37m\u001b[0m \u001b[1m199s\u001b[0m 6s/step - accuracy: 0.6332 - auc: 0.9133 - loss: 1.0177 - precision: 0.7561 - recall: 0.4667 - val_accuracy: 0.7154 - val_auc: 0.9594 - val_loss: 0.7088 - val_precision: 0.8186 - val_recall: 0.6255\n",
            "Epoch 62/100\n",
            "\u001b[1m31/31\u001b[0m \u001b[32m━━━━━━━━━━━━━━━━━━━━\u001b[0m\u001b[37m\u001b[0m \u001b[1m195s\u001b[0m 6s/step - accuracy: 0.6119 - auc: 0.9084 - loss: 1.0462 - precision: 0.7373 - recall: 0.4552 - val_accuracy: 0.6891 - val_auc: 0.9486 - val_loss: 0.8067 - val_precision: 0.7895 - val_recall: 0.5056\n",
            "Epoch 63/100\n",
            "\u001b[1m31/31\u001b[0m \u001b[32m━━━━━━━━━━━━━━━━━━━━\u001b[0m\u001b[37m\u001b[0m \u001b[1m188s\u001b[0m 6s/step - accuracy: 0.6407 - auc: 0.9113 - loss: 1.0262 - precision: 0.7731 - recall: 0.4751 - val_accuracy: 0.7341 - val_auc: 0.9615 - val_loss: 0.7122 - val_precision: 0.8095 - val_recall: 0.5730\n",
            "Epoch 64/100\n",
            "\u001b[1m31/31\u001b[0m \u001b[32m━━━━━━━━━━━━━━━━━━━━\u001b[0m\u001b[37m\u001b[0m \u001b[1m200s\u001b[0m 6s/step - accuracy: 0.6487 - auc: 0.9247 - loss: 0.9490 - precision: 0.7739 - recall: 0.5185 - val_accuracy: 0.7528 - val_auc: 0.9632 - val_loss: 0.7019 - val_precision: 0.8542 - val_recall: 0.6142\n",
            "Epoch 65/100\n",
            "\u001b[1m31/31\u001b[0m \u001b[32m━━━━━━━━━━━━━━━━━━━━\u001b[0m\u001b[37m\u001b[0m \u001b[1m195s\u001b[0m 6s/step - accuracy: 0.6341 - auc: 0.9183 - loss: 0.9939 - precision: 0.7537 - recall: 0.4554 - val_accuracy: 0.7303 - val_auc: 0.9645 - val_loss: 0.6793 - val_precision: 0.8469 - val_recall: 0.6217\n",
            "Epoch 66/100\n",
            "\u001b[1m31/31\u001b[0m \u001b[32m━━━━━━━━━━━━━━━━━━━━\u001b[0m\u001b[37m\u001b[0m \u001b[1m185s\u001b[0m 6s/step - accuracy: 0.6577 - auc: 0.9226 - loss: 0.9615 - precision: 0.7664 - recall: 0.4949 - val_accuracy: 0.7154 - val_auc: 0.9558 - val_loss: 0.7490 - val_precision: 0.8085 - val_recall: 0.5693\n",
            "Epoch 67/100\n",
            "\u001b[1m31/31\u001b[0m \u001b[32m━━━━━━━━━━━━━━━━━━━━\u001b[0m\u001b[37m\u001b[0m \u001b[1m191s\u001b[0m 6s/step - accuracy: 0.6475 - auc: 0.9192 - loss: 0.9904 - precision: 0.7705 - recall: 0.4950 - val_accuracy: 0.7603 - val_auc: 0.9667 - val_loss: 0.6573 - val_precision: 0.8634 - val_recall: 0.6629\n",
            "Epoch 68/100\n",
            "\u001b[1m31/31\u001b[0m \u001b[32m━━━━━━━━━━━━━━━━━━━━\u001b[0m\u001b[37m\u001b[0m \u001b[1m197s\u001b[0m 6s/step - accuracy: 0.6503 - auc: 0.9224 - loss: 0.9643 - precision: 0.7804 - recall: 0.5002 - val_accuracy: 0.7378 - val_auc: 0.9605 - val_loss: 0.7039 - val_precision: 0.8241 - val_recall: 0.6142\n",
            "Epoch 69/100\n",
            "\u001b[1m31/31\u001b[0m \u001b[32m━━━━━━━━━━━━━━━━━━━━\u001b[0m\u001b[37m\u001b[0m \u001b[1m186s\u001b[0m 6s/step - accuracy: 0.6407 - auc: 0.9200 - loss: 0.9804 - precision: 0.7718 - recall: 0.4922 - val_accuracy: 0.7453 - val_auc: 0.9631 - val_loss: 0.6798 - val_precision: 0.8404 - val_recall: 0.6704\n",
            "Epoch 70/100\n",
            "\u001b[1m31/31\u001b[0m \u001b[32m━━━━━━━━━━━━━━━━━━━━\u001b[0m\u001b[37m\u001b[0m \u001b[1m202s\u001b[0m 6s/step - accuracy: 0.6394 - auc: 0.9199 - loss: 0.9759 - precision: 0.7512 - recall: 0.4958 - val_accuracy: 0.7416 - val_auc: 0.9610 - val_loss: 0.7006 - val_precision: 0.8394 - val_recall: 0.6067\n",
            "Epoch 71/100\n",
            "\u001b[1m31/31\u001b[0m \u001b[32m━━━━━━━━━━━━━━━━━━━━\u001b[0m\u001b[37m\u001b[0m \u001b[1m195s\u001b[0m 6s/step - accuracy: 0.6474 - auc: 0.9229 - loss: 0.9584 - precision: 0.7810 - recall: 0.5158 - val_accuracy: 0.7678 - val_auc: 0.9699 - val_loss: 0.6301 - val_precision: 0.8522 - val_recall: 0.6479\n",
            "Epoch 72/100\n",
            "\u001b[1m31/31\u001b[0m \u001b[32m━━━━━━━━━━━━━━━━━━━━\u001b[0m\u001b[37m\u001b[0m \u001b[1m194s\u001b[0m 6s/step - accuracy: 0.6876 - auc: 0.9349 - loss: 0.8875 - precision: 0.8038 - recall: 0.5440 - val_accuracy: 0.7566 - val_auc: 0.9669 - val_loss: 0.6580 - val_precision: 0.8382 - val_recall: 0.6404\n",
            "Epoch 73/100\n",
            "\u001b[1m31/31\u001b[0m \u001b[32m━━━━━━━━━━━━━━━━━━━━\u001b[0m\u001b[37m\u001b[0m \u001b[1m189s\u001b[0m 6s/step - accuracy: 0.6526 - auc: 0.9252 - loss: 0.9462 - precision: 0.7716 - recall: 0.5145 - val_accuracy: 0.6479 - val_auc: 0.9353 - val_loss: 0.8744 - val_precision: 0.7882 - val_recall: 0.5019\n",
            "Epoch 74/100\n",
            "\u001b[1m31/31\u001b[0m \u001b[32m━━━━━━━━━━━━━━━━━━━━\u001b[0m\u001b[37m\u001b[0m \u001b[1m194s\u001b[0m 6s/step - accuracy: 0.6474 - auc: 0.9193 - loss: 0.9822 - precision: 0.7570 - recall: 0.4949 - val_accuracy: 0.7528 - val_auc: 0.9708 - val_loss: 0.6269 - val_precision: 0.8578 - val_recall: 0.6779\n",
            "Epoch 75/100\n",
            "\u001b[1m31/31\u001b[0m \u001b[32m━━━━━━━━━━━━━━━━━━━━\u001b[0m\u001b[37m\u001b[0m \u001b[1m193s\u001b[0m 6s/step - accuracy: 0.6364 - auc: 0.9196 - loss: 0.9805 - precision: 0.7657 - recall: 0.4962 - val_accuracy: 0.7341 - val_auc: 0.9632 - val_loss: 0.6855 - val_precision: 0.8367 - val_recall: 0.6142\n",
            "Epoch 76/100\n",
            "\u001b[1m31/31\u001b[0m \u001b[32m━━━━━━━━━━━━━━━━━━━━\u001b[0m\u001b[37m\u001b[0m \u001b[1m204s\u001b[0m 6s/step - accuracy: 0.6684 - auc: 0.9299 - loss: 0.9159 - precision: 0.7945 - recall: 0.5412 - val_accuracy: 0.7266 - val_auc: 0.9666 - val_loss: 0.6781 - val_precision: 0.8368 - val_recall: 0.5955\n",
            "Epoch 77/100\n",
            "\u001b[1m31/31\u001b[0m \u001b[32m━━━━━━━━━━━━━━━━━━━━\u001b[0m\u001b[37m\u001b[0m \u001b[1m208s\u001b[0m 6s/step - accuracy: 0.6430 - auc: 0.9214 - loss: 0.9748 - precision: 0.7662 - recall: 0.4939 - val_accuracy: 0.7753 - val_auc: 0.9713 - val_loss: 0.6205 - val_precision: 0.8443 - val_recall: 0.6704\n",
            "Epoch 78/100\n",
            "\u001b[1m31/31\u001b[0m \u001b[32m━━━━━━━━━━━━━━━━━━━━\u001b[0m\u001b[37m\u001b[0m \u001b[1m188s\u001b[0m 6s/step - accuracy: 0.6845 - auc: 0.9326 - loss: 0.9028 - precision: 0.7931 - recall: 0.5393 - val_accuracy: 0.8015 - val_auc: 0.9764 - val_loss: 0.5666 - val_precision: 0.8779 - val_recall: 0.7004\n",
            "Epoch 79/100\n",
            "\u001b[1m31/31\u001b[0m \u001b[32m━━━━━━━━━━━━━━━━━━━━\u001b[0m\u001b[37m\u001b[0m \u001b[1m201s\u001b[0m 6s/step - accuracy: 0.6765 - auc: 0.9379 - loss: 0.8671 - precision: 0.7813 - recall: 0.5490 - val_accuracy: 0.7790 - val_auc: 0.9689 - val_loss: 0.6171 - val_precision: 0.8479 - val_recall: 0.6891\n",
            "Epoch 80/100\n",
            "\u001b[1m31/31\u001b[0m \u001b[32m━━━━━━━━━━━━━━━━━━━━\u001b[0m\u001b[37m\u001b[0m \u001b[1m198s\u001b[0m 6s/step - accuracy: 0.6833 - auc: 0.9319 - loss: 0.9024 - precision: 0.7927 - recall: 0.5424 - val_accuracy: 0.7603 - val_auc: 0.9686 - val_loss: 0.6156 - val_precision: 0.8235 - val_recall: 0.6816\n",
            "Epoch 81/100\n",
            "\u001b[1m31/31\u001b[0m \u001b[32m━━━━━━━━━━━━━━━━━━━━\u001b[0m\u001b[37m\u001b[0m \u001b[1m191s\u001b[0m 6s/step - accuracy: 0.6746 - auc: 0.9220 - loss: 0.9634 - precision: 0.7636 - recall: 0.5315 - val_accuracy: 0.7978 - val_auc: 0.9777 - val_loss: 0.5652 - val_precision: 0.8841 - val_recall: 0.6854\n",
            "Epoch 82/100\n",
            "\u001b[1m31/31\u001b[0m \u001b[32m━━━━━━━━━━━━━━━━━━━━\u001b[0m\u001b[37m\u001b[0m \u001b[1m203s\u001b[0m 6s/step - accuracy: 0.6907 - auc: 0.9388 - loss: 0.8595 - precision: 0.8067 - recall: 0.5536 - val_accuracy: 0.7603 - val_auc: 0.9714 - val_loss: 0.6064 - val_precision: 0.8641 - val_recall: 0.6667\n",
            "Epoch 83/100\n",
            "\u001b[1m31/31\u001b[0m \u001b[32m━━━━━━━━━━━━━━━━━━━━\u001b[0m\u001b[37m\u001b[0m \u001b[1m185s\u001b[0m 6s/step - accuracy: 0.6955 - auc: 0.9395 - loss: 0.8532 - precision: 0.8025 - recall: 0.5673 - val_accuracy: 0.8202 - val_auc: 0.9777 - val_loss: 0.5449 - val_precision: 0.8904 - val_recall: 0.7303\n",
            "Epoch 84/100\n",
            "\u001b[1m31/31\u001b[0m \u001b[32m━━━━━━━━━━━━━━━━━━━━\u001b[0m\u001b[37m\u001b[0m \u001b[1m195s\u001b[0m 6s/step - accuracy: 0.6929 - auc: 0.9409 - loss: 0.8404 - precision: 0.8022 - recall: 0.5669 - val_accuracy: 0.7903 - val_auc: 0.9778 - val_loss: 0.5544 - val_precision: 0.8698 - val_recall: 0.7004\n",
            "Epoch 85/100\n",
            "\u001b[1m31/31\u001b[0m \u001b[32m━━━━━━━━━━━━━━━━━━━━\u001b[0m\u001b[37m\u001b[0m \u001b[1m194s\u001b[0m 6s/step - accuracy: 0.6831 - auc: 0.9342 - loss: 0.8936 - precision: 0.7876 - recall: 0.5406 - val_accuracy: 0.7790 - val_auc: 0.9746 - val_loss: 0.5833 - val_precision: 0.8558 - val_recall: 0.6667\n",
            "Epoch 86/100\n",
            "\u001b[1m31/31\u001b[0m \u001b[32m━━━━━━━━━━━━━━━━━━━━\u001b[0m\u001b[37m\u001b[0m \u001b[1m202s\u001b[0m 6s/step - accuracy: 0.7064 - auc: 0.9430 - loss: 0.8277 - precision: 0.8017 - recall: 0.5728 - val_accuracy: 0.7790 - val_auc: 0.9758 - val_loss: 0.5672 - val_precision: 0.8571 - val_recall: 0.6517\n",
            "Epoch 87/100\n",
            "\u001b[1m31/31\u001b[0m \u001b[32m━━━━━━━━━━━━━━━━━━━━\u001b[0m\u001b[37m\u001b[0m \u001b[1m196s\u001b[0m 6s/step - accuracy: 0.6770 - auc: 0.9385 - loss: 0.8555 - precision: 0.7891 - recall: 0.5661 - val_accuracy: 0.7865 - val_auc: 0.9772 - val_loss: 0.5553 - val_precision: 0.8720 - val_recall: 0.6891\n",
            "Epoch 88/100\n",
            "\u001b[1m31/31\u001b[0m \u001b[32m━━━━━━━━━━━━━━━━━━━━\u001b[0m\u001b[37m\u001b[0m \u001b[1m186s\u001b[0m 6s/step - accuracy: 0.6729 - auc: 0.9298 - loss: 0.9158 - precision: 0.7689 - recall: 0.5357 - val_accuracy: 0.8052 - val_auc: 0.9779 - val_loss: 0.5267 - val_precision: 0.8690 - val_recall: 0.7453\n",
            "Epoch 89/100\n",
            "\u001b[1m31/31\u001b[0m \u001b[32m━━━━━━━━━━━━━━━━━━━━\u001b[0m\u001b[37m\u001b[0m \u001b[1m188s\u001b[0m 6s/step - accuracy: 0.6760 - auc: 0.9362 - loss: 0.8736 - precision: 0.7825 - recall: 0.5710 - val_accuracy: 0.7753 - val_auc: 0.9659 - val_loss: 0.6431 - val_precision: 0.8486 - val_recall: 0.6929\n",
            "Epoch 90/100\n",
            "\u001b[1m31/31\u001b[0m \u001b[32m━━━━━━━━━━━━━━━━━━━━\u001b[0m\u001b[37m\u001b[0m \u001b[1m196s\u001b[0m 6s/step - accuracy: 0.6790 - auc: 0.9335 - loss: 0.8906 - precision: 0.7752 - recall: 0.5505 - val_accuracy: 0.7903 - val_auc: 0.9775 - val_loss: 0.5519 - val_precision: 0.8826 - val_recall: 0.7041\n",
            "Epoch 91/100\n",
            "\u001b[1m31/31\u001b[0m \u001b[32m━━━━━━━━━━━━━━━━━━━━\u001b[0m\u001b[37m\u001b[0m \u001b[1m186s\u001b[0m 6s/step - accuracy: 0.7012 - auc: 0.9424 - loss: 0.8311 - precision: 0.8180 - recall: 0.5815 - val_accuracy: 0.8090 - val_auc: 0.9772 - val_loss: 0.5396 - val_precision: 0.8571 - val_recall: 0.7191\n",
            "Epoch 92/100\n",
            "\u001b[1m31/31\u001b[0m \u001b[32m━━━━━━━━━━━━━━━━━━━━\u001b[0m\u001b[37m\u001b[0m \u001b[1m206s\u001b[0m 6s/step - accuracy: 0.6803 - auc: 0.9402 - loss: 0.8400 - precision: 0.8000 - recall: 0.5669 - val_accuracy: 0.7903 - val_auc: 0.9779 - val_loss: 0.5366 - val_precision: 0.8451 - val_recall: 0.7154\n",
            "Epoch 93/100\n",
            "\u001b[1m31/31\u001b[0m \u001b[32m━━━━━━━━━━━━━━━━━━━━\u001b[0m\u001b[37m\u001b[0m \u001b[1m206s\u001b[0m 6s/step - accuracy: 0.6649 - auc: 0.9388 - loss: 0.8585 - precision: 0.7809 - recall: 0.5632 - val_accuracy: 0.7903 - val_auc: 0.9785 - val_loss: 0.5342 - val_precision: 0.8520 - val_recall: 0.7116\n",
            "Epoch 94/100\n",
            "\u001b[1m31/31\u001b[0m \u001b[32m━━━━━━━━━━━━━━━━━━━━\u001b[0m\u001b[37m\u001b[0m \u001b[1m195s\u001b[0m 6s/step - accuracy: 0.7156 - auc: 0.9458 - loss: 0.8065 - precision: 0.8023 - recall: 0.5921 - val_accuracy: 0.7940 - val_auc: 0.9764 - val_loss: 0.5538 - val_precision: 0.8533 - val_recall: 0.7191\n",
            "Epoch 95/100\n",
            "\u001b[1m31/31\u001b[0m \u001b[32m━━━━━━━━━━━━━━━━━━━━\u001b[0m\u001b[37m\u001b[0m \u001b[1m202s\u001b[0m 6s/step - accuracy: 0.6889 - auc: 0.9427 - loss: 0.8300 - precision: 0.7992 - recall: 0.5606 - val_accuracy: 0.7303 - val_auc: 0.9587 - val_loss: 0.7224 - val_precision: 0.8235 - val_recall: 0.5768\n",
            "Epoch 96/100\n",
            "\u001b[1m31/31\u001b[0m \u001b[32m━━━━━━━━━━━━━━━━━━━━\u001b[0m\u001b[37m\u001b[0m \u001b[1m211s\u001b[0m 6s/step - accuracy: 0.7105 - auc: 0.9423 - loss: 0.8302 - precision: 0.8338 - recall: 0.5795 - val_accuracy: 0.7940 - val_auc: 0.9776 - val_loss: 0.5228 - val_precision: 0.8498 - val_recall: 0.7416\n",
            "Epoch 97/100\n",
            "\u001b[1m31/31\u001b[0m \u001b[32m━━━━━━━━━━━━━━━━━━━━\u001b[0m\u001b[37m\u001b[0m \u001b[1m194s\u001b[0m 6s/step - accuracy: 0.6938 - auc: 0.9425 - loss: 0.8286 - precision: 0.8018 - recall: 0.5914 - val_accuracy: 0.7903 - val_auc: 0.9746 - val_loss: 0.5749 - val_precision: 0.8785 - val_recall: 0.7041\n",
            "Epoch 98/100\n",
            "\u001b[1m31/31\u001b[0m \u001b[32m━━━━━━━━━━━━━━━━━━━━\u001b[0m\u001b[37m\u001b[0m \u001b[1m186s\u001b[0m 6s/step - accuracy: 0.6955 - auc: 0.9381 - loss: 0.8579 - precision: 0.7758 - recall: 0.5737 - val_accuracy: 0.8277 - val_auc: 0.9798 - val_loss: 0.5594 - val_precision: 0.9231 - val_recall: 0.6742\n",
            "Epoch 99/100\n",
            "\u001b[1m31/31\u001b[0m \u001b[32m━━━━━━━━━━━━━━━━━━━━\u001b[0m\u001b[37m\u001b[0m \u001b[1m209s\u001b[0m 6s/step - accuracy: 0.7049 - auc: 0.9431 - loss: 0.8291 - precision: 0.8016 - recall: 0.5799 - val_accuracy: 0.8277 - val_auc: 0.9804 - val_loss: 0.5266 - val_precision: 0.8848 - val_recall: 0.7191\n",
            "Epoch 100/100\n",
            "\u001b[1m31/31\u001b[0m \u001b[32m━━━━━━━━━━━━━━━━━━━━\u001b[0m\u001b[37m\u001b[0m \u001b[1m194s\u001b[0m 6s/step - accuracy: 0.6749 - auc: 0.9399 - loss: 0.8479 - precision: 0.7712 - recall: 0.5622 - val_accuracy: 0.7678 - val_auc: 0.9739 - val_loss: 0.5618 - val_precision: 0.8230 - val_recall: 0.6966\n"
          ]
        }
      ],
      "source": [
        "# Training Model\n",
        "history = model.fit(\n",
        "    train_data,\n",
        "    validation_data=val_data,\n",
        "    epochs=100,\n",
        "    callbacks=[early_stopping]\n",
        ")"
      ]
    },
    {
      "cell_type": "code",
      "execution_count": null,
      "metadata": {
        "id": "cLNfhm8MNriw",
        "colab": {
          "base_uri": "https://localhost:8080/"
        },
        "outputId": "5d96f5bf-455f-44e0-d35f-86b8b434f3dd"
      },
      "outputs": [
        {
          "output_type": "stream",
          "name": "stdout",
          "text": [
            "Evaluasi Model:\n",
            "\u001b[1m5/5\u001b[0m \u001b[32m━━━━━━━━━━━━━━━━━━━━\u001b[0m\u001b[37m\u001b[0m \u001b[1m10s\u001b[0m 2s/step - accuracy: 0.8189 - auc: 0.9787 - loss: 0.5401 - precision: 0.8816 - recall: 0.7228\n",
            "loss: 0.5266112685203552\n",
            "compile_metrics: 0.8277153372764587\n"
          ]
        }
      ],
      "source": [
        "# Evaluasi Model\n",
        "print(\"Evaluasi Model:\")\n",
        "evaluation = model.evaluate(val_data)\n",
        "for name, value in zip(model.metrics_names, evaluation):\n",
        "    print(f\"{name}: {value}\")"
      ]
    },
    {
      "cell_type": "code",
      "execution_count": null,
      "metadata": {
        "id": "tHjTYE-RNugK",
        "colab": {
          "base_uri": "https://localhost:8080/"
        },
        "outputId": "5dd9d722-147b-487f-b35d-00a606a290d1"
      },
      "outputs": [
        {
          "output_type": "stream",
          "name": "stderr",
          "text": [
            "WARNING:absl:You are saving your model as an HDF5 file via `model.save()` or `keras.saving.save_model(model)`. This file format is considered legacy. We recommend using instead the native Keras format, e.g. `model.save('my_model.keras')` or `keras.saving.save_model(model, 'my_model.keras')`. \n"
          ]
        },
        {
          "output_type": "stream",
          "name": "stdout",
          "text": [
            "Model berhasil disimpan di Google Drive.\n"
          ]
        }
      ],
      "source": [
        "# Save Model\n",
        "model.save('/content/drive/My Drive/Skinalyze.h5')\n",
        "print(\"Model berhasil disimpan di Google Drive.\")"
      ]
    },
    {
      "cell_type": "code",
      "source": [],
      "metadata": {
        "id": "zNIVxstf2kEz"
      },
      "execution_count": null,
      "outputs": []
    }
  ],
  "metadata": {
    "colab": {
      "provenance": []
    },
    "kernelspec": {
      "display_name": "Python 3",
      "name": "python3"
    },
    "language_info": {
      "name": "python"
    }
  },
  "nbformat": 4,
  "nbformat_minor": 0
}